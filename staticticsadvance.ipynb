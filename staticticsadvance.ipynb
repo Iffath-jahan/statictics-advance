{
 "cells": [
  {
   "cell_type": "raw",
   "id": "9236861b-e73b-4445-a246-d8a863f45c32",
   "metadata": {},
   "source": [
    "Q1. What is the Probability density function?\n",
    "ans:it shows the distribution of the continuous data"
   ]
  },
  {
   "cell_type": "raw",
   "id": "01601fb0-de07-47c7-82ac-6de7bcc004bd",
   "metadata": {},
   "source": [
    "Q2. What are the types of Probability distribution?\n",
    "ans:1.Normal/gussaian distribution\n",
    "2.bernoulli distribution \n",
    "3.uniform distribution\n",
    "4.log normal distribution\n",
    "5.poisson distribution\n",
    "6.power law distribution\n",
    "7.binomial distribution\n"
   ]
  },
  {
   "cell_type": "raw",
   "id": "23e787d3-d682-46cc-98c6-94f75780bd66",
   "metadata": {},
   "source": [
    "Q3. Write a Python function to calculate the probability density function of a normal distribution with\n",
    "given mean and standard deviation at a given point"
   ]
  },
  {
   "cell_type": "code",
   "execution_count": 2,
   "id": "39650db4-badb-4bac-89fe-c4b7eb6264ea",
   "metadata": {},
   "outputs": [],
   "source": [
    "import math\n",
    "\n",
    "def normal_pdf(x, mu, sigma):\n",
    "  # Calculate the exponent term\n",
    "  exponent = -((x - mu) ** 2) / (2 * (sigma ** 2))\n",
    "  # Calculate the coefficient term\n",
    "  coefficient = 1 / (sigma * math.sqrt(2 * math.pi))\n",
    "  # Return the product of the coefficient and exponent terms\n",
    "  return coefficient * math.e ** exponent\n"
   ]
  },
  {
   "cell_type": "code",
   "execution_count": 3,
   "id": "6f2bdd47-9eb3-4029-803b-9a957a582dc1",
   "metadata": {},
   "outputs": [
    {
     "data": {
      "text/plain": [
       "0.07820853879509118"
      ]
     },
     "execution_count": 3,
     "metadata": {},
     "output_type": "execute_result"
    }
   ],
   "source": [
    "normal_pdf(3,4,5)"
   ]
  },
  {
   "cell_type": "raw",
   "id": "ff2dd3cd-ce10-4d94-a217-868f7f8165f0",
   "metadata": {},
   "source": [
    "Q4. What are the properties of Binomial distribution? Give two examples of events where binomial\n",
    "distribution can be applied\n",
    "ans:* how many number of times a process is repeated for n times that is called binomial distribution\n",
    "* the outcomes are binary and repeting the process for n times \n",
    "* p[0,1] - success\n",
    "* q=1-p - failure\n",
    "* fail/pass/failure/success/\n",
    "example:1.tossing a coin for n times\n",
    "2.Taking a multiple-choice test and counting the number of correct answers.\n"
   ]
  },
  {
   "cell_type": "raw",
   "id": "b84d723a-759c-4ac4-aef8-3a5f00611873",
   "metadata": {},
   "source": [
    "Q5. Generate a random sample of size 1000 from a binomial distribution with probability of success 0.4\n",
    "and plot a histogram of the results using matplotlib."
   ]
  },
  {
   "cell_type": "code",
   "execution_count": 7,
   "id": "a436f6bc-3176-4e22-90b6-a7fb0662c999",
   "metadata": {},
   "outputs": [
    {
     "name": "stdout",
     "output_type": "stream",
     "text": [
      "[4 2 2 5 6 3 6 3 8 5 3 7 3 5 8 1 3 3 5 2 4 3 3 6 6 3 3 3 3 5 3 3 4 6 5 4 6\n",
      " 0 1 4 2 2 7 3 6 4 2 2 9 4 5 4 3 7 3 4 5 5 6 7 4 6 5 5 6 4 2 4 5 3 2 3 3 2\n",
      " 5 4 5 3 4 6 2 6 7 3 4 4 6 2 4 3 2 2 2 4 4 2 5 4 3 5 4 6 5 5 3 5 4 3 6 3 2\n",
      " 4 7 3 5 3 4 6 2 3 3 4 5 5 6 5 6 2 5 3 2 2 4 2 4 2 4 5 5 6 5 3 4 2 3 1 4 3\n",
      " 5 4 3 6 5 1 3 5 4 5 3 5 0 5 4 3 2 3 6 8 4 4 4 5 5 3 3 3 2 0 3 4 5 6 6 4 5\n",
      " 5 5 3 5 3 3 2 3 5 6 4 3 3 2 3 5 5 5 7 5 3 5 7 7 3 4 3 2 3 1 7 4 4 4 5 2 2\n",
      " 5 5 5 6 2 5 5 3 7 4 4 4 2 4 4 6 5 1 4 6 3 4 4 5 4 2 4 3 7 6 5 2 5 4 8 3 5\n",
      " 5 2 6 5 3 6 3 5 2 4 5 7 3 3 3 4 6 3 5 5 3 2 6 2 2 3 4 3 4 2 5 3 2 7 4 7 2\n",
      " 4 3 2 3 5 3 4 5 3 4 2 4 4 5 2 5 4 4 5 5 5 3 0 4 1 7 3 6 4 1 7 5 5 4 1 8 4\n",
      " 3 3 4 3 5 6 4 4 2 3 4 5 6 5 3 3 3 2 4 5 3 3 1 4 3 6 3 3 6 5 4 3 4 4 6 4 5\n",
      " 4 3 3 2 4 1 6 4 4 4 3 3 6 3 3 6 4 4 2 3 5 5 8 4 6 6 4 3 5 3 3 6 5 3 3 5 2\n",
      " 2 4 2 4 4 2 5 5 3 5 4 5 3 4 5 4 4 5 2 5 6 2 5 3 3 3 3 2 4 6 5 4 4 4 4 3 2\n",
      " 4 4 5 3 5 5 5 3 6 5 3 3 8 1 3 6 5 3 2 7 4 6 5 5 6 3 2 3 3 7 3 0 5 3 3 3 3\n",
      " 3 6 7 6 3 2 4 9 3 6 3 3 0 5 4 3 3 6 4 6 4 3 4 4 2 3 5 4 8 1 4 2 6 6 7 1 6\n",
      " 4 5 3 7 4 3 6 6 1 4 3 6 2 3 3 4 2 4 4 5 4 1 3 2 4 1 2 6 6 5 7 3 5 3 5 4 5\n",
      " 4 3 3 5 4 2 4 6 3 2 3 4 6 3 4 3 6 2 3 8 5 5 7 7 4 2 3 3 3 6 8 4 5 5 2 3 4\n",
      " 6 3 3 2 6 5 3 5 5 7 3 5 2 1 4 4 5 4 5 4 4 4 5 5 4 3 6 5 2 3 2 5 3 4 4 4 5\n",
      " 6 6 3 4 5 1 4 2 3 3 4 1 3 4 1 1 5 2 4 4 0 5 4 3 3 5 3 4 5 5 5 4 3 5 5 3 5\n",
      " 2 3 3 4 3 6 2 4 7 2 4 0 7 3 4 4 2 3 5 5 7 5 2 4 4 4 3 6 3 4 4 2 5 3 0 3 0\n",
      " 4 2 2 3 4 5 1 2 5 3 3 2 2 6 6 1 4 5 6 2 3 3 2 3 4 4 5 6 2 5 3 4 5 5 4 3 2\n",
      " 3 4 5 7 4 5 6 4 4 4 4 5 3 6 3 4 0 4 4 4 7 4 2 5 3 5 4 3 2 4 4 7 4 4 5 0 4\n",
      " 3 2 1 2 2 5 2 2 2 5 3 5 5 3 4 4 4 2 6 1 6 1 7 2 5 7 3 4 5 4 5 4 3 7 4 5 5\n",
      " 4 5 3 4 6 5 4 5 2 4 4 7 4 7 4 3 4 6 6 4 3 4 5 3 1 6 5 9 4 5 2 2 4 5 4 3 4\n",
      " 2 5 2 7 4 1 6 5 3 7 4 3 4 4 5 3 5 5 1 4 8 5 2 5 4 3 5 3 5 4 2 3 7 3 6 3 3\n",
      " 4 4 3 4 5 4 5 7 6 2 4 1 3 3 4 4 6 5 3 3 6 4 3 4 3 2 4 2 4 4 5 6 4 6 3 4 4\n",
      " 4 4 5 5 3 4 3 3 3 3 3 2 8 5 3 2 4 4 2 5 5 5 7 4 6 4 5 5 4 5 5 5 3 4 3 6 3\n",
      " 2 3 4 7 3 4 5 3 6 5 3 4 4 3 5 3 7 6 5 3 4 2 1 7 4 1 2 8 7 5 3 3 6 4 6 4 4\n",
      " 7]\n"
     ]
    }
   ],
   "source": [
    "import numpy as np\n",
    "sample = np.random.binomial(n=10, p=0.4, size=1000)\n",
    "print(sample)\n"
   ]
  },
  {
   "cell_type": "code",
   "execution_count": 8,
   "id": "4cbddb3c-c743-4426-9324-45d40100cc32",
   "metadata": {},
   "outputs": [
    {
     "data": {
      "image/png": "[encoded data removed]",
      "text/plain": [
       "<Figure size 640x480 with 1 Axes>"
      ]
     },
     "metadata": {},
     "output_type": "display_data"
    }
   ],
   "source": [
    "import matplotlib.pyplot as plt\n",
    "plt.hist(sample)\n",
    "plt.title('Histogram of Binomial Distribution')\n",
    "plt.xlabel('Number of Successes')\n",
    "plt.ylabel('Frequency')\n",
    "plt.show()\n"
   ]
  },
  {
   "cell_type": "raw",
   "id": "d8896f22-f044-462f-ae48-bd1bc85dadf5",
   "metadata": {},
   "source": [
    "Q6. Write a Python function to calculate the cumulative distribution function of a Poisson distribution\n",
    "with given mean at a given point."
   ]
  },
  {
   "cell_type": "code",
   "execution_count": 9,
   "id": "9c9ceccd-040a-4458-bd59-8c7e1bcf6da1",
   "metadata": {},
   "outputs": [],
   "source": [
    "import math\n",
    "\n",
    "def poisson_cdf(x, lam):\n",
    "  # Initialize the sum\n",
    "  sum = 0\n",
    "  # Loop from 0 to x\n",
    "  for k in range(x + 1):\n",
    "    # Add the term for k\n",
    "    sum += (math.e ** (-lam)) * (lam ** k) / math.factorial(k)\n",
    "  # Return the sum\n",
    "  return sum\n"
   ]
  },
  {
   "cell_type": "code",
   "execution_count": 11,
   "id": "8c2a1250-058b-4dc4-a02d-edf584029cf7",
   "metadata": {},
   "outputs": [
    {
     "data": {
      "text/plain": [
       "0.6159606548330632"
      ]
     },
     "execution_count": 11,
     "metadata": {},
     "output_type": "execute_result"
    }
   ],
   "source": [
    "poisson_cdf(5 ,5)"
   ]
  },
  {
   "cell_type": "raw",
   "id": "d77676b1-40db-4871-b957-f5be7e73875e",
   "metadata": {},
   "source": [
    "Q7. How Binomial distribution different from Poisson distribution?\n",
    "ans:"
   ]
  },
  {
   "cell_type": "raw",
   "id": "cbf7e73f-80cb-4850-bcc6-01fa8b1c675c",
   "metadata": {},
   "source": [
    "ans:1. binomial distribution\n",
    "* probablity mass funcation\n",
    "* how many number of times a process is repeated for n times that is called binomial distribution\n",
    "* the outcomes are binary and repeting the process for n times \n",
    "* p[0,1] - success\n",
    "* q=1-p - failure\n",
    "* fail/pass/failure/success/\n",
    "2. poission distribution\n",
    "* probablity mass funcation\n",
    "* it is an discreate distribution\n",
    "* it describes the number of event occuring in the fixed time interval\n",
    "* lamda is used for excepected no of event to occuring at every time interval time\n",
    "* t - time interval "
   ]
  },
  {
   "cell_type": "raw",
   "id": "b56ffe42-2717-4682-bd02-32865d5173d8",
   "metadata": {},
   "source": [
    "Q8. Generate a random sample of size 1000 from a Poisson distribution with mean 5 and calculate the\n",
    "sample mean and variance."
   ]
  },
  {
   "cell_type": "code",
   "execution_count": 19,
   "id": "653055e4-f3ea-40c9-b581-b58cc0d7d275",
   "metadata": {},
   "outputs": [
    {
     "name": "stdout",
     "output_type": "stream",
     "text": [
      "[ 5  2  9  6  3  8  9  4  2  3  6  4  5  2  3  4  7  4  4  8  8  5  7  2\n",
      "  7  1  2  1  4  4  4  3  2  4 10  9  2  3  5  8  9  2  3  5  7  6 10  5\n",
      "  4  3  5  4  3  3  6  3  4  3  6  1 11  4  5  4  4  5  3  2  4  5  4  7\n",
      "  9  6  4  5  8  6  5  9  3  1  4  5  4  9  8  8  1  5  5  5  4  5  7  6\n",
      "  4  5  4  8  8  4  9  5  8  6  5  6  3  2  4 11  5  2 13 10  5  4  5  6\n",
      "  9  4  5  5  5  3  3  4  6  3  6  3  3  5  2  4  4  5  4  7  5  9  7  6\n",
      "  7  4  8  5  5  9  3  4  6  7 10  4  6  7  1  4  4  8 10  7  4  6  7  5\n",
      "  5  5  7  4  8  5  6  5  5  4  6  4  9  7  1  8 12  9  7  5  6  1  7  3\n",
      "  2  6  3 10  4  4  2  5  5  3  4  8  2  6  5  2  7  7  8  4  9  3  4  7\n",
      "  3  2  4  7  2  5  5  7  6  5  3  6  3  9  4  5  2  7  5  7  5  6  4  7\n",
      "  5  7  3  8  4  6  4  3  7  6 10  4  6  3  2  3  2  2  2  9  6  8  2  7\n",
      "  4  5  8  2  4  2  7  2  6  6  4  1  4  3  8  7  6  2  6  4  6  5  2  4\n",
      "  7  4  7  9  4  4  7  3  6 10  4  3  1  7  2  6  3  5  4  4  4  4  4  2\n",
      "  5  4  6  3  6 12  2  5  5  2  2  4  3  3  8  9  2  7  5  2  7  3  4  8\n",
      "  4  3  3  4  5  2  5  6  6  8  4  4  5 10  8  7  5  2  3  5  3  7  4  5\n",
      "  6  4  5  5  5  4  3  3  3  4  4  7  8  2  5  4  6  8  1  6  3  6  5  7\n",
      "  6  5  5  8  4  2  6  5  4  8  7  9  7  9  5  6  5  1  4  6 10  5  4  9\n",
      "  6  8  6  7  9  7 10  4  6  4  3  2  7  2  8  4  2  7  0  3  6  4  8  3\n",
      "  5  7  4  2  4  9  1  3  4  4  3  4  3  3  2  4  7  6  1  5  8  5  8  3\n",
      "  9  6  5  2  2  4  5  2  7  7  6  2  5  3 12  4  4  3  5  6  7  2  3  6\n",
      "  2  6  3  9  6  4  5  4  8  7  2  2  4  2  6  3  4  7  6  3  8  2  3  3\n",
      "  5  5  5  6  3  3  1  5  7  5  7  6  4  5  7  2  6  3  6  2  5  7  4  4\n",
      "  6  6  5  4  5  8  7  8  1  6  3  9  6  2  4 10  4  7  2  5  5  8  5  3\n",
      "  5  4  6  4  5  6  3  3  9  6  8  4  4  2  8  7  4  5  7  7  7  5  4  3\n",
      "  6  4  7  4  4  7  7  4  5  5  6  3  8  6  8  5  6  5  5  6  7  6  6  4\n",
      "  3 10  2  3  4  7  8  9  7  3  2  6  3  5  3  6  4  4  3  4  6  7  6  7\n",
      "  6  8  9  3  8  6  3  2  4  8  6  8  5  2  9  3  6  1  5  5  8  0  6  4\n",
      "  1  5  7  6  5  3  3  3  4  4  3  3  4  3  3  6  6  6  7  3  4  4  3  2\n",
      "  9  4  3  5  6  4  3  5  5  5  7  2  4  9  4  6  4  1  3  6  7  8  6  6\n",
      "  6  2  3 10  6  7  7  1  7  8  5  4  7  3  7  5  6  4  6  6  4  7  9  7\n",
      "  1  5  9  8  5  4  3  2 10  3  1  5  6  3  6  1  5  3  7  4 10  4  6  3\n",
      "  6  1  4  7  6  5  4 10  3  2  5  6  4  8  4  1  0  5  3  4  4  3 10  4\n",
      "  9  1  4  3  5  3  6  6  3  4  9  1  3  5  8  3  5  7 12  4  4  1  2  8\n",
      "  5  4  5  2  5  5  3  5  6  4  3  5  6  1  4  6 10 11  6  8  4 10  6  4\n",
      "  4  9  6  7  4  6  5  6  3  5  8  4  2  7  2  7  5  6  7  3  2  4  3  2\n",
      "  5  4  5  5  2  7  6  3  6  4  5 12  2  5  3  4  1  3  5  1  8  4  6  3\n",
      "  4  6  4  5  4  7  4  2  8  6  5  4  4  6  2  4  6  7  4  5  3  5  8  2\n",
      "  1  7  4  5  2  5  0  3  5  6  2  7  6  5  6  4  2  5  3  5  4  8  2  6\n",
      "  4  7  5  8  3  0  3  9  4  6  5  4  3  4  8  2  7  2  6  9  6  6  1  3\n",
      "  7  8  6  3 11  6  3  0  6  4  8  2  6  4  4 10  4  6  2  1  6  3  6  2\n",
      " 10  4  4 11  5  6  5  4  5  4  6  3  4  3  6  1  4  9  0  7  5  7 10  6\n",
      "  5  4  3  4  2  2  5  1  6  1  2  2  5  6  3  3]\n"
     ]
    }
   ],
   "source": [
    "import numpy as np\n",
    "sample2 = np.random.poisson(lam=5,size=1000)\n",
    "print(sample2)\n"
   ]
  },
  {
   "cell_type": "code",
   "execution_count": 20,
   "id": "401659c9-1708-4bae-b71d-ae8074dc5561",
   "metadata": {},
   "outputs": [
    {
     "name": "stdout",
     "output_type": "stream",
     "text": [
      "Sample mean: 4\n",
      "Sample variance: 5\n"
     ]
    }
   ],
   "source": [
    "import statistics\n",
    "mean = statistics.mean(sample2)\n",
    "variance = statistics.variance(sample2)\n",
    "print(\"Sample mean:\", mean)\n",
    "print(\"Sample variance:\", variance)\n"
   ]
  },
  {
   "cell_type": "raw",
   "id": "8cf355b0-1eae-4845-aa2f-bfa17c5f2737",
   "metadata": {},
   "source": [
    "Q9. How mean and variance are related in Binomial distribution and Poisson distribution?\n",
    "ans:The Binomial distribution has a mean of μ=np and a variance of σ2=np(1−p), where n is the number of trials and p is the probability of success12.\n",
    "The Poisson distribution has a mean and variance of λ, where λ is the average number of events in a given interval34."
   ]
  },
  {
   "cell_type": "raw",
   "id": "3b7565d8-dfe6-438f-a67f-21ea949a0888",
   "metadata": {},
   "source": [
    "Q10. In normal distribution with respect to mean position, where does the least frequent data appear?\n",
    "ans: according to emperical rule when a random variable within first standard deviation from the mean 68% of data will be occured \n",
    "at first standard devitaion and 95%  within second devition of distribution and 99.7% at the third standard"
   ]
  }
 ],
 "metadata": {
  "kernelspec": {
   "display_name": "Python 3 (ipykernel)",
   "language": "python",
   "name": "python3"
  },
  "language_info": {
   "codemirror_mode": {
    "name": "ipython",
    "version": 3
   },
   "file_extension": ".py",
   "mimetype": "text/x-python",
   "name": "python",
   "nbconvert_exporter": "python",
   "pygments_lexer": "ipython3",
   "version": "3.10.8"
  }
 },
 "nbformat": 4,
 "nbformat_minor": 5
}
