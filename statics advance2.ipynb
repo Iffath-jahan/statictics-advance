{
 "cells": [
  {
   "cell_type": "raw",
   "id": "b8c92920-6dbf-4d23-9f5d-eeea7037c6b5",
   "metadata": {},
   "source": [
    "Q9. How mean and variance are related in Binomial distribution and Poisson distribution?\n",
    "ans:The Binomial distribution has a mean of μ=np and a variance of σ2=np(1−p), where n is the number of trials and p is the probability of success12.\n",
    "The Poisson distribution has a mean and variance of λ, where λ is the average number of events in a given interval34."
   ]
  },
  {
   "cell_type": "raw",
   "id": "48a52f86-2ec8-4f1c-9960-9ee1a5321fee",
   "metadata": {},
   "source": [
    "Q10. In normal distribution with respect to mean position, where does the least frequent data appear?\n",
    "ans: according to emperical rule when a random variable within first standard deviation from the mean 68% of data will be occured \n",
    "at first standard devitaion and 95%  within second devition of distribution and 99.7% at the third standard devition of distribution"
   ]
  }
 ],
 "metadata": {
  "kernelspec": {
   "display_name": "Python 3 (ipykernel)",
   "language": "python",
   "name": "python3"
  },
  "language_info": {
   "codemirror_mode": {
    "name": "ipython",
    "version": 3
   },
   "file_extension": ".py",
   "mimetype": "text/x-python",
   "name": "python",
   "nbconvert_exporter": "python",
   "pygments_lexer": "ipython3",
   "version": "3.10.8"
  }
 },
 "nbformat": 4,
 "nbformat_minor": 5
}
